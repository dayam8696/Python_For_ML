{
 "cells": [
  {
   "cell_type": "code",
   "execution_count": 1,
   "id": "5913ab20-8ef6-4a90-991c-963f22305ab0",
   "metadata": {},
   "outputs": [],
   "source": [
    "x = 10"
   ]
  },
  {
   "cell_type": "code",
   "execution_count": 2,
   "id": "afac57e4-edac-40d2-8520-1f8a43ea2cd8",
   "metadata": {},
   "outputs": [
    {
     "data": {
      "text/plain": [
       "int"
      ]
     },
     "execution_count": 2,
     "metadata": {},
     "output_type": "execute_result"
    }
   ],
   "source": [
    "type(x)"
   ]
  },
  {
   "cell_type": "code",
   "execution_count": 3,
   "id": "ce5c10f3-2709-45a4-95a5-dae2b1900550",
   "metadata": {},
   "outputs": [],
   "source": [
    "x = '10'"
   ]
  },
  {
   "cell_type": "code",
   "execution_count": 4,
   "id": "8c5bc3bc-5cc5-4219-9b3f-c1a7e8485adf",
   "metadata": {},
   "outputs": [
    {
     "data": {
      "text/plain": [
       "str"
      ]
     },
     "execution_count": 4,
     "metadata": {},
     "output_type": "execute_result"
    }
   ],
   "source": [
    "type(x)"
   ]
  },
  {
   "cell_type": "code",
   "execution_count": 5,
   "id": "69b7f907-22b5-4eeb-9efe-0ce5bd781441",
   "metadata": {},
   "outputs": [],
   "source": [
    "x = 10.23"
   ]
  },
  {
   "cell_type": "code",
   "execution_count": 6,
   "id": "0f0cdfd1-7c59-4bf9-aa42-ead3d8b3e726",
   "metadata": {},
   "outputs": [
    {
     "data": {
      "text/plain": [
       "float"
      ]
     },
     "execution_count": 6,
     "metadata": {},
     "output_type": "execute_result"
    }
   ],
   "source": [
    "type(x)"
   ]
  },
  {
   "cell_type": "code",
   "execution_count": 8,
   "id": "1ae4601a-a311-4561-996e-8801a225cb58",
   "metadata": {},
   "outputs": [],
   "source": [
    "x = True"
   ]
  },
  {
   "cell_type": "code",
   "execution_count": 9,
   "id": "8caafda3-d8c2-4ff9-839e-6568bb2145a5",
   "metadata": {},
   "outputs": [
    {
     "data": {
      "text/plain": [
       "bool"
      ]
     },
     "execution_count": 9,
     "metadata": {},
     "output_type": "execute_result"
    }
   ],
   "source": [
    "type(x)"
   ]
  },
  {
   "cell_type": "code",
   "execution_count": 10,
   "id": "22bfe2d0-05b1-4739-a303-f57247e5ac73",
   "metadata": {},
   "outputs": [],
   "source": [
    "x = 3+2j"
   ]
  },
  {
   "cell_type": "code",
   "execution_count": 11,
   "id": "6abb054d-efc7-4694-b519-5845212c138a",
   "metadata": {},
   "outputs": [
    {
     "data": {
      "text/plain": [
       "complex"
      ]
     },
     "execution_count": 11,
     "metadata": {},
     "output_type": "execute_result"
    }
   ],
   "source": [
    "type(x)"
   ]
  },
  {
   "cell_type": "code",
   "execution_count": 12,
   "id": "03ed172b-aebf-4a04-ab26-c6870ae1d3d2",
   "metadata": {},
   "outputs": [],
   "source": [
    "x = [1,2,3,'Hello']"
   ]
  },
  {
   "cell_type": "code",
   "execution_count": 13,
   "id": "832340c3-347a-43bc-a6cb-231f071afc06",
   "metadata": {},
   "outputs": [
    {
     "data": {
      "text/plain": [
       "list"
      ]
     },
     "execution_count": 13,
     "metadata": {},
     "output_type": "execute_result"
    }
   ],
   "source": [
    "type(x)"
   ]
  },
  {
   "cell_type": "code",
   "execution_count": 14,
   "id": "a9dbbdac-a7dc-4dc9-92d2-ffe29e48cbfa",
   "metadata": {},
   "outputs": [],
   "source": [
    "x = (1,2,3,'Hello')"
   ]
  },
  {
   "cell_type": "code",
   "execution_count": 15,
   "id": "613faa09-7594-413a-a515-b70502fc78fa",
   "metadata": {},
   "outputs": [
    {
     "data": {
      "text/plain": [
       "tuple"
      ]
     },
     "execution_count": 15,
     "metadata": {},
     "output_type": "execute_result"
    }
   ],
   "source": [
    "type(x)"
   ]
  },
  {
   "cell_type": "code",
   "execution_count": 16,
   "id": "7b9d572c-b626-4313-9afd-e5f9e28d539b",
   "metadata": {},
   "outputs": [],
   "source": [
    "x = {1,2,3,'Hello'}"
   ]
  },
  {
   "cell_type": "code",
   "execution_count": 17,
   "id": "a21fa7eb-a1db-49e6-8457-512bb9886cd0",
   "metadata": {},
   "outputs": [
    {
     "data": {
      "text/plain": [
       "set"
      ]
     },
     "execution_count": 17,
     "metadata": {},
     "output_type": "execute_result"
    }
   ],
   "source": [
    "type(x)"
   ]
  },
  {
   "cell_type": "code",
   "execution_count": 18,
   "id": "7cbc716d-f5be-4b6f-a64d-d60c8bc6a3b8",
   "metadata": {},
   "outputs": [],
   "source": [
    "x = {'Black' :11, 'Red':12,'GREEN' :13}"
   ]
  },
  {
   "cell_type": "code",
   "execution_count": 19,
   "id": "61adeaf7-72e1-42e8-8bf6-223fe70f448a",
   "metadata": {},
   "outputs": [
    {
     "data": {
      "text/plain": [
       "dict"
      ]
     },
     "execution_count": 19,
     "metadata": {},
     "output_type": "execute_result"
    }
   ],
   "source": [
    "type(x)"
   ]
  },
  {
   "cell_type": "markdown",
   "id": "125760bb-6b78-4a5c-a057-16ccf06e9c38",
   "metadata": {},
   "source": [
    "# Type Casting"
   ]
  },
  {
   "cell_type": "code",
   "execution_count": 1,
   "id": "ffc6f85a-9c3e-4e7f-881a-d6f9ecb7fd94",
   "metadata": {},
   "outputs": [
    {
     "data": {
      "text/plain": [
       "float"
      ]
     },
     "execution_count": 1,
     "metadata": {},
     "output_type": "execute_result"
    }
   ],
   "source": [
    "type(float('12.25'))"
   ]
  },
  {
   "cell_type": "code",
   "execution_count": 2,
   "id": "429fe7f8-5c98-4e35-9f67-b38592942b66",
   "metadata": {},
   "outputs": [
    {
     "data": {
      "text/plain": [
       "int"
      ]
     },
     "execution_count": 2,
     "metadata": {},
     "output_type": "execute_result"
    }
   ],
   "source": [
    "type(int(float('12.25')))"
   ]
  },
  {
   "cell_type": "code",
   "execution_count": 3,
   "id": "8d8d875f-d609-4a01-be13-90ce296167b9",
   "metadata": {},
   "outputs": [
    {
     "data": {
      "text/plain": [
       "12"
      ]
     },
     "execution_count": 3,
     "metadata": {},
     "output_type": "execute_result"
    }
   ],
   "source": [
    "int(float('12.25'))"
   ]
  },
  {
   "cell_type": "code",
   "execution_count": 3,
   "id": "719709b9-8c0c-42dc-9931-93647deb7997",
   "metadata": {},
   "outputs": [
    {
     "name": "stdout",
     "output_type": "stream",
     "text": [
      "range(0, 5)\n"
     ]
    }
   ],
   "source": [
    "number = range(5)\n",
    "print(number)"
   ]
  },
  {
   "cell_type": "code",
   "execution_count": null,
   "id": "4221048c-0124-4d82-af61-950ccbb6fe81",
   "metadata": {},
   "outputs": [],
   "source": []
  }
 ],
 "metadata": {
  "kernelspec": {
   "display_name": "Python 3 (ipykernel)",
   "language": "python",
   "name": "python3"
  },
  "language_info": {
   "codemirror_mode": {
    "name": "ipython",
    "version": 3
   },
   "file_extension": ".py",
   "mimetype": "text/x-python",
   "name": "python",
   "nbconvert_exporter": "python",
   "pygments_lexer": "ipython3",
   "version": "3.11.7"
  }
 },
 "nbformat": 4,
 "nbformat_minor": 5
}
