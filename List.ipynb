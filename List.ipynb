{
 "cells": [
  {
   "cell_type": "code",
   "execution_count": 1,
   "id": "abd5e491-540a-4f86-89c1-a389e464e906",
   "metadata": {},
   "outputs": [
    {
     "name": "stdout",
     "output_type": "stream",
     "text": [
      "[90, 100, 30]\n"
     ]
    }
   ],
   "source": [
    "marks = [90,100,30]\n",
    "print(marks)"
   ]
  },
  {
   "cell_type": "code",
   "execution_count": 1,
   "id": "8db51fa8-672f-4a02-9944-f36f4cb49802",
   "metadata": {},
   "outputs": [
    {
     "name": "stdout",
     "output_type": "stream",
     "text": [
      "100\n"
     ]
    }
   ],
   "source": [
    "marks = [90,100,30]\n",
    "print(marks[1])"
   ]
  },
  {
   "cell_type": "code",
   "execution_count": 2,
   "id": "273973cb-7b4d-45cd-9e1c-03b56d15e6d7",
   "metadata": {},
   "outputs": [
    {
     "name": "stdout",
     "output_type": "stream",
     "text": [
      "[90, 100, 30, 99]\n"
     ]
    }
   ],
   "source": [
    "marks = [90,100,30]\n",
    "marks.append(99)\n",
    "print(marks)"
   ]
  },
  {
   "cell_type": "code",
   "execution_count": 4,
   "id": "dd3f5793-9d34-4c11-966f-cf65cde6c0cc",
   "metadata": {},
   "outputs": [
    {
     "name": "stdout",
     "output_type": "stream",
     "text": [
      "[99, 90, 100, 30]\n"
     ]
    }
   ],
   "source": [
    "marks = [90,100,30]\n",
    "marks.insert( 0,99)\n",
    "print(marks)"
   ]
  },
  {
   "cell_type": "code",
   "execution_count": 5,
   "id": "4d481ca3-7101-4a69-9484-735210062fa2",
   "metadata": {},
   "outputs": [
    {
     "name": "stdout",
     "output_type": "stream",
     "text": [
      "True\n"
     ]
    }
   ],
   "source": [
    "marks = [90,100,30]\n",
    "marks.insert( 0,99)\n",
    "print(30 in marks)"
   ]
  },
  {
   "cell_type": "code",
   "execution_count": 6,
   "id": "c0d98c81-87ce-4af8-9fa6-07d7d8387521",
   "metadata": {},
   "outputs": [
    {
     "name": "stdout",
     "output_type": "stream",
     "text": [
      "False\n"
     ]
    }
   ],
   "source": [
    "marks = [90,100,30]\n",
    "marks.insert( 0,99)\n",
    "print(50 in marks)"
   ]
  },
  {
   "cell_type": "code",
   "execution_count": 8,
   "id": "da804464-1e4a-46bb-b974-e86acf0c0d1c",
   "metadata": {},
   "outputs": [
    {
     "name": "stdout",
     "output_type": "stream",
     "text": [
      "4\n"
     ]
    }
   ],
   "source": [
    "marks = [90,100,30]\n",
    "marks.insert( 0,99)\n",
    "print(len(marks))\n"
   ]
  },
  {
   "cell_type": "code",
   "execution_count": 11,
   "id": "aac706f8-bf75-4694-b2b5-61ea407fe1b0",
   "metadata": {},
   "outputs": [
    {
     "name": "stdout",
     "output_type": "stream",
     "text": [
      "90\n",
      "100\n",
      "30\n"
     ]
    }
   ],
   "source": [
    "marks = [90,100,30]\n",
    "i = 0\n",
    "while i< len(marks):\n",
    "    print(marks[i])\n",
    "    i = i+1"
   ]
  },
  {
   "cell_type": "code",
   "execution_count": null,
   "id": "8d34e17e-b67c-4e4d-b8db-8cfd9b54a79d",
   "metadata": {},
   "outputs": [],
   "source": [
    "marks.clear()\n"
   ]
  }
 ],
 "metadata": {
  "kernelspec": {
   "display_name": "Python 3 (ipykernel)",
   "language": "python",
   "name": "python3"
  },
  "language_info": {
   "codemirror_mode": {
    "name": "ipython",
    "version": 3
   },
   "file_extension": ".py",
   "mimetype": "text/x-python",
   "name": "python",
   "nbconvert_exporter": "python",
   "pygments_lexer": "ipython3",
   "version": "3.11.7"
  }
 },
 "nbformat": 4,
 "nbformat_minor": 5
}
