{
 "cells": [
  {
   "cell_type": "code",
   "execution_count": 1,
   "id": "470f7933-b63a-421b-9fc6-f61206c979f0",
   "metadata": {},
   "outputs": [
    {
     "name": "stdin",
     "output_type": "stream",
     "text": [
      " 10\n"
     ]
    },
    {
     "data": {
      "text/plain": [
       "'10'"
      ]
     },
     "execution_count": 1,
     "metadata": {},
     "output_type": "execute_result"
    }
   ],
   "source": [
    "input()"
   ]
  },
  {
   "cell_type": "code",
   "execution_count": 2,
   "id": "14eee1c7-b4c5-4d56-bf97-45bcd6380c83",
   "metadata": {},
   "outputs": [
    {
     "name": "stdin",
     "output_type": "stream",
     "text": [
      "Enter your age 21\n"
     ]
    },
    {
     "data": {
      "text/plain": [
       "'21'"
      ]
     },
     "execution_count": 2,
     "metadata": {},
     "output_type": "execute_result"
    }
   ],
   "source": [
    "input(\"Enter your age\")"
   ]
  },
  {
   "cell_type": "code",
   "execution_count": 3,
   "id": "cf4e550f-dc41-40c9-842d-e6fe57ea7bd6",
   "metadata": {},
   "outputs": [
    {
     "name": "stdin",
     "output_type": "stream",
     "text": [
      "Enter your age 30\n"
     ]
    }
   ],
   "source": [
    "x = input(\"Enter your age\")"
   ]
  },
  {
   "cell_type": "code",
   "execution_count": 4,
   "id": "5d20be05-6682-48ec-967d-dd121bc95d22",
   "metadata": {},
   "outputs": [
    {
     "data": {
      "text/plain": [
       "'30'"
      ]
     },
     "execution_count": 4,
     "metadata": {},
     "output_type": "execute_result"
    }
   ],
   "source": [
    "x "
   ]
  },
  {
   "cell_type": "markdown",
   "id": "dacd7a99-cd62-4d91-a4be-f229ddd6a2d2",
   "metadata": {},
   "source": [
    "# Formating Printing"
   ]
  },
  {
   "cell_type": "code",
   "execution_count": 6,
   "id": "950e47c0-20df-4fd4-b50a-632e067037ba",
   "metadata": {},
   "outputs": [
    {
     "name": "stdin",
     "output_type": "stream",
     "text": [
      "enter your age 30\n"
     ]
    }
   ],
   "source": [
    "x = int(input(\"enter your age\"))"
   ]
  },
  {
   "cell_type": "code",
   "execution_count": 7,
   "id": "91283526-3d26-4bd6-a664-17c42803d7f1",
   "metadata": {},
   "outputs": [
    {
     "data": {
      "text/plain": [
       "30"
      ]
     },
     "execution_count": 7,
     "metadata": {},
     "output_type": "execute_result"
    }
   ],
   "source": [
    "x"
   ]
  },
  {
   "cell_type": "code",
   "execution_count": 8,
   "id": "a41399ca-9171-4ecb-a29e-a70e073b3e0f",
   "metadata": {},
   "outputs": [
    {
     "data": {
      "text/plain": [
       "int"
      ]
     },
     "execution_count": 8,
     "metadata": {},
     "output_type": "execute_result"
    }
   ],
   "source": [
    "type(x)"
   ]
  },
  {
   "cell_type": "code",
   "execution_count": 9,
   "id": "f3e94eda-1859-40f4-b60a-c4488eb272b1",
   "metadata": {},
   "outputs": [
    {
     "name": "stdout",
     "output_type": "stream",
     "text": [
      "30\n"
     ]
    }
   ],
   "source": [
    "print(x)"
   ]
  },
  {
   "cell_type": "code",
   "execution_count": 11,
   "id": "e1ed2dd4-f508-4608-ba3f-76edfb28f541",
   "metadata": {},
   "outputs": [
    {
     "name": "stdout",
     "output_type": "stream",
     "text": [
      "my age is 30\n"
     ]
    }
   ],
   "source": [
    "print(\"my age is\",x)"
   ]
  },
  {
   "cell_type": "code",
   "execution_count": 12,
   "id": "9a06df10-10a9-45d3-b579-1855bdd093e3",
   "metadata": {},
   "outputs": [
    {
     "name": "stdin",
     "output_type": "stream",
     "text": [
      " 55\n"
     ]
    }
   ],
   "source": [
    "y = int(input())"
   ]
  },
  {
   "cell_type": "code",
   "execution_count": 14,
   "id": "c4f526b2-30e2-4165-a174-647034ec9440",
   "metadata": {},
   "outputs": [
    {
     "name": "stdout",
     "output_type": "stream",
     "text": [
      "Dayam is 30 year old and his father is 55 year old\n"
     ]
    }
   ],
   "source": [
    "print(\"Dayam is {} year old and his father is {} year old\".format(x,y))"
   ]
  },
  {
   "cell_type": "code",
   "execution_count": 15,
   "id": "5a52a34f-7ee8-4d2c-bd25-6ca611401ebe",
   "metadata": {},
   "outputs": [
    {
     "name": "stdout",
     "output_type": "stream",
     "text": [
      "Dayam is 30 year old and his father is 55 year old\n"
     ]
    }
   ],
   "source": [
    "print(\"Dayam is {0} year old and his father is {1} year old\".format(x,y))"
   ]
  },
  {
   "cell_type": "code",
   "execution_count": 16,
   "id": "9911ccf0-eaf9-4ee2-bd3b-0147521c7f78",
   "metadata": {},
   "outputs": [
    {
     "name": "stdout",
     "output_type": "stream",
     "text": [
      "Dayam is 30 year old and his father is 55 year old\n"
     ]
    }
   ],
   "source": [
    "print(\"Dayam is {a} year old and his father is {b} year old\".format(a=x,b=y))"
   ]
  },
  {
   "cell_type": "code",
   "execution_count": 13,
   "id": "3202c9af-2671-4fe0-8344-6792655340ea",
   "metadata": {},
   "outputs": [
    {
     "data": {
      "text/plain": [
       "55"
      ]
     },
     "execution_count": 13,
     "metadata": {},
     "output_type": "execute_result"
    }
   ],
   "source": [
    "y"
   ]
  },
  {
   "cell_type": "code",
   "execution_count": null,
   "id": "3a50cec5-3c02-4871-b4b7-aaa157661c72",
   "metadata": {},
   "outputs": [],
   "source": []
  }
 ],
 "metadata": {
  "kernelspec": {
   "display_name": "Python 3 (ipykernel)",
   "language": "python",
   "name": "python3"
  },
  "language_info": {
   "codemirror_mode": {
    "name": "ipython",
    "version": 3
   },
   "file_extension": ".py",
   "mimetype": "text/x-python",
   "name": "python",
   "nbconvert_exporter": "python",
   "pygments_lexer": "ipython3",
   "version": "3.11.7"
  }
 },
 "nbformat": 4,
 "nbformat_minor": 5
}
