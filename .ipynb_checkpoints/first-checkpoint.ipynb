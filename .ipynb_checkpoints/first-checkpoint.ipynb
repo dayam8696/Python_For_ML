{
 "cells": [
  {
   "cell_type": "code",
   "execution_count": 2,
   "id": "512716d6-830b-439d-8e0e-c20f7c08f5ff",
   "metadata": {},
   "outputs": [
    {
     "name": "stdout",
     "output_type": "stream",
     "text": [
      "dayam\n"
     ]
    }
   ],
   "source": [
    "print(\"dayam\")"
   ]
  },
  {
   "cell_type": "code",
   "execution_count": 3,
   "id": "6a17e981-948c-4375-8372-7d92673e9761",
   "metadata": {},
   "outputs": [
    {
     "name": "stdout",
     "output_type": "stream",
     "text": [
      "now i will run python\n"
     ]
    }
   ],
   "source": [
    "print(\"now i will run python\")"
   ]
  },
  {
   "cell_type": "code",
   "execution_count": 3,
   "id": "0817cbe9-36a5-4a7c-933b-47ffc205d68c",
   "metadata": {},
   "outputs": [
    {
     "name": "stdout",
     "output_type": "stream",
     "text": [
      "now i will run python\n"
     ]
    }
   ],
   "source": [
    "print(\"now i will learn python\")"
   ]
  },
  {
   "cell_type": "code",
   "execution_count": null,
   "id": "6a5222a8-cb66-485d-be66-dadccfded0a2",
   "metadata": {},
   "outputs": [],
   "source": []
  }
 ],
 "metadata": {
  "kernelspec": {
   "display_name": "Python 3 (ipykernel)",
   "language": "python",
   "name": "python3"
  },
  "language_info": {
   "codemirror_mode": {
    "name": "ipython",
    "version": 3
   },
   "file_extension": ".py",
   "mimetype": "text/x-python",
   "name": "python",
   "nbconvert_exporter": "python",
   "pygments_lexer": "ipython3",
   "version": "3.11.7"
  }
 },
 "nbformat": 4,
 "nbformat_minor": 5
}
