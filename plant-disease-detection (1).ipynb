{
 "cells": [
  {
   "cell_type": "markdown",
   "id": "c1ee3687",
   "metadata": {
    "papermill": {
     "duration": 0.007142,
     "end_time": "2023-10-28T18:08:03.082799",
     "exception": false,
     "start_time": "2023-10-28T18:08:03.075657",
     "status": "completed"
    },
    "tags": []
   },
   "source": [
    "<a id='top'></a>\n",
    "<div class=\"list-group\" id=\"list-tab\" role=\"tablist\">\n",
    "<p style=\"background-color:#25940A ;font-family:newtimeroman;color:white;font-size:300%;text-align:center;border-radius:60px 1px;\">  Plant Disease Detection  </p>"
   ]
  },
  {
   "cell_type": "markdown",
   "id": "b163a6b4",
   "metadata": {
    "execution": {
     "iopub.execute_input": "2023-10-28T17:05:13.566398Z",
     "iopub.status.busy": "2023-10-28T17:05:13.565985Z",
     "iopub.status.idle": "2023-10-28T17:05:13.579903Z",
     "shell.execute_reply": "2023-10-28T17:05:13.578663Z",
     "shell.execute_reply.started": "2023-10-28T17:05:13.566364Z"
    },
    "papermill": {
     "duration": 0.006188,
     "end_time": "2023-10-28T18:08:03.095556",
     "exception": false,
     "start_time": "2023-10-28T18:08:03.089368",
     "status": "completed"
    },
    "tags": []
   },
   "source": [
    "<div style=\"width:100%;text-align: center; background-color:#white;\"> <img align=middle src=\"https://static.standard.co.uk/2021/07/26/17/Flowerbox-houseplants-collectionjpg?width=1200&auto=webp&quality=75\" alt=\"Decision Tree\" >"
   ]
  },
  {
   "cell_type": "markdown",
   "id": "8510e3f2",
   "metadata": {
    "id": "ae2TvL-M0LKb",
    "papermill": {
     "duration": 0.006108,
     "end_time": "2023-10-28T18:08:03.108021",
     "exception": false,
     "start_time": "2023-10-28T18:08:03.101913",
     "status": "completed"
    },
    "tags": []
   },
   "source": [
    "\n",
    "<div style=\"color:white;\n",
    "           display:fill;\n",
    "           border-radius:5px;\n",
    "           background-color:#234D18;\n",
    "           font-size:200%;\n",
    "           font-family:Serif;\n",
    "           letter-spacing:0.5px\">\n",
    "\n",
    "<p style=\"padding: 10px;\n",
    "          color:white;\n",
    "          font-size:120%;\n",
    "          text-align:center;\">\n",
    "Import libraries\n",
    "</p>\n",
    "</div>"
   ]
  },
  {
   "cell_type": "code",
   "execution_count": null,
   "id": "d790a77a-709f-4772-a1be-d5f121edd54f",
   "metadata": {
    "is_executing": true
   },
   "outputs": [],
   "source": [
    "!pip install numpy matplotlib opencv-python tensorflow\n"
   ]
  },
  {
   "cell_type": "code",
   "execution_count": null,
   "id": "be31d76a",
   "metadata": {
    "id": "bYWb1UN6sqmv",
    "papermill": {
     "duration": 9.94563,
     "end_time": "2023-10-28T18:08:13.059963",
     "exception": false,
     "start_time": "2023-10-28T18:08:03.114333",
     "status": "completed"
    },
    "tags": [],
    "is_executing": true
   },
   "outputs": [],
   "source": [
    "import numpy as np\n",
    "import matplotlib.pyplot as plt\n",
    "import cv2\n",
    "\n",
    "import tensorflow as tf\n",
    "from tensorflow import keras\n"
   ]
  },
  {
   "cell_type": "markdown",
   "id": "57e96d41",
   "metadata": {
    "id": "le9uAjOD0Dyn",
    "papermill": {
     "duration": 0.006467,
     "end_time": "2023-10-28T18:08:13.073457",
     "exception": false,
     "start_time": "2023-10-28T18:08:13.066990",
     "status": "completed"
    },
    "tags": []
   },
   "source": [
    "<div style=\"color:white;\n",
    "           display:fill;\n",
    "           border-radius:5px;\n",
    "           background-color:#234D18;\n",
    "           font-size:200%;\n",
    "           font-family:Serif;\n",
    "           letter-spacing:0.5px\">\n",
    "\n",
    "<p style=\"padding: 10px;\n",
    "          color:white;\n",
    "          font-size:120%;\n",
    "          text-align:center;\">\n",
    "Read The Data\n",
    "</p>\n",
    "</div>"
   ]
  },
  {
   "cell_type": "code",
   "execution_count": null,
   "id": "860907e8",
   "metadata": {
    "id": "o1_5m8oKtfdr",
    "outputId": "b9ac1b16-8b9e-4abf-c51a-236c7ea66ed0",
    "papermill": {
     "duration": 38.550047,
     "end_time": "2023-10-28T18:08:51.630044",
     "exception": false,
     "start_time": "2023-10-28T18:08:13.079997",
     "status": "completed"
    },
    "tags": [],
    "is_executing": true
   },
   "outputs": [],
   "source": [
    "path = '../input/plantvillage-dataset/color'\n",
    "train_ds , test_ds = keras.utils.image_dataset_from_directory(\n",
    "    path ,\n",
    "    image_size=(224,224),\n",
    "    batch_size=32 ,\n",
    "    seed = 123 ,\n",
    "    validation_split=.2,\n",
    "    subset='both'\n",
    ")\n"
   ]
  },
  {
   "cell_type": "code",
   "execution_count": null,
   "id": "97e7fc44",
   "metadata": {
    "id": "XxAu9N1BJYx5",
    "outputId": "3070539b-f557-4a4a-cd31-d6995ef2da30",
    "papermill": {
     "duration": 0.017525,
     "end_time": "2023-10-28T18:08:51.654916",
     "exception": false,
     "start_time": "2023-10-28T18:08:51.637391",
     "status": "completed"
    },
    "tags": [],
    "is_executing": true
   },
   "outputs": [],
   "source": [
    "classes = train_ds.class_names\n",
    "classes"
   ]
  },
  {
   "cell_type": "markdown",
   "id": "f5f5b5ed",
   "metadata": {
    "id": "PoRiJvZ80S_4",
    "papermill": {
     "duration": 0.006923,
     "end_time": "2023-10-28T18:08:51.668756",
     "exception": false,
     "start_time": "2023-10-28T18:08:51.661833",
     "status": "completed"
    },
    "tags": []
   },
   "source": [
    "<div style=\"color:white;\n",
    "           display:fill;\n",
    "           border-radius:5px;\n",
    "           background-color:#234D18;\n",
    "           font-size:200%;\n",
    "           font-family:Serif;\n",
    "           letter-spacing:0.5px\">\n",
    "\n",
    "<p style=\"padding: 10px;\n",
    "          color:white;\n",
    "          font-size:120%;\n",
    "          text-align:center;\">\n",
    " Visualize Some Images\n",
    "</p>\n",
    "</div>"
   ]
  },
  {
   "cell_type": "code",
   "execution_count": null,
   "id": "98de66c5",
   "metadata": {
    "id": "JbTwSo3MwakU",
    "outputId": "7ead59ae-410e-4847-902a-cc13ea74a6d3",
    "papermill": {
     "duration": 0.378302,
     "end_time": "2023-10-28T18:08:52.054529",
     "exception": false,
     "start_time": "2023-10-28T18:08:51.676227",
     "status": "completed"
    },
    "tags": []
   },
   "outputs": [],
   "source": [
    "image = cv2.imread(\"../input/plantvillage-dataset/color/Apple___Apple_scab/01f3deaa-6143-4b6c-9c22-620a46d8be04___FREC_Scab 3112.JPG\")\n",
    "plt.figure(figsize = (6,6))\n",
    "plt.imshow(image)\n",
    "plt.title('Apple scab',size =18 )\n",
    "plt.axis('off')\n",
    "plt.show()"
   ]
  },
  {
   "cell_type": "markdown",
   "id": "d5739cb4",
   "metadata": {
    "id": "jvyKLGhh5g8d",
    "papermill": {
     "duration": 0.010266,
     "end_time": "2023-10-28T18:08:52.075182",
     "exception": false,
     "start_time": "2023-10-28T18:08:52.064916",
     "status": "completed"
    },
    "tags": []
   },
   "source": [
    "----------------------------------"
   ]
  },
  {
   "cell_type": "code",
   "execution_count": null,
   "id": "be990afe",
   "metadata": {
    "id": "QZq--IqN1d4N",
    "outputId": "7d50cbf2-8c77-45e2-9baf-95840e703027",
    "papermill": {
     "duration": 0.31949,
     "end_time": "2023-10-28T18:08:52.404955",
     "exception": false,
     "start_time": "2023-10-28T18:08:52.085465",
     "status": "completed"
    },
    "tags": []
   },
   "outputs": [],
   "source": [
    "image = cv2.imread(\"../input/plantvillage-dataset/color/Peach___Bacterial_spot/00e6ad4a-5a62-48d7-ac68-9c0b8ec87f5f___Rut._Bact.S 1472.JPG\")\n",
    "plt.figure(figsize = (6,6))\n",
    "plt.imshow(image)\n",
    "plt.title('Peach Bacterial spot',size =18 )\n",
    "plt.axis('off')\n",
    "plt.show()"
   ]
  },
  {
   "cell_type": "markdown",
   "id": "a565d891",
   "metadata": {
    "id": "M2mJ2Mh57l5S",
    "papermill": {
     "duration": 0.014293,
     "end_time": "2023-10-28T18:08:52.433971",
     "exception": false,
     "start_time": "2023-10-28T18:08:52.419678",
     "status": "completed"
    },
    "tags": []
   },
   "source": [
    "-----------------------------"
   ]
  },
  {
   "cell_type": "code",
   "execution_count": null,
   "id": "ef77ef01",
   "metadata": {
    "id": "jvsR4EJL7YJX",
    "outputId": "09fc65d4-8cc3-45fa-8ef1-bffd768342a3",
    "papermill": {
     "duration": 0.322181,
     "end_time": "2023-10-28T18:08:52.770519",
     "exception": false,
     "start_time": "2023-10-28T18:08:52.448338",
     "status": "completed"
    },
    "tags": []
   },
   "outputs": [],
   "source": [
    "image = cv2.imread(\"../input/plantvillage-dataset/color/Tomato___Septoria_leaf_spot/015c2613-fb1c-4f31-88f1-c7e5be9ddc97___JR_Sept.L.S 8431.JPG\")\n",
    "plt.figure(figsize = (6,6))\n",
    "plt.imshow(image)\n",
    "plt.title('Tomato Septoria leaf spot',size =18 )\n",
    "plt.axis('off')\n",
    "plt.show()"
   ]
  },
  {
   "cell_type": "markdown",
   "id": "d60f01f0",
   "metadata": {
    "id": "wxQzLoYM780X",
    "papermill": {
     "duration": 0.018214,
     "end_time": "2023-10-28T18:08:52.807282",
     "exception": false,
     "start_time": "2023-10-28T18:08:52.789068",
     "status": "completed"
    },
    "tags": []
   },
   "source": [
    "----------------------------------------\n",
    "<div style=\"color:white;\n",
    "           display:fill;\n",
    "           border-radius:5px;\n",
    "           background-color:#234D18;\n",
    "           font-size:200%;\n",
    "           font-family:Serif;\n",
    "           letter-spacing:0.5px\">\n",
    "\n",
    "<p style=\"padding: 10px;\n",
    "          color:white;\n",
    "          font-size:120%;\n",
    "          text-align:center;\">\n",
    "Build Neural network [CNN]\n",
    "</p>\n",
    "</div>"
   ]
  },
  {
   "cell_type": "code",
   "execution_count": null,
   "id": "8744c751",
   "metadata": {
    "id": "mWDyIIim759m",
    "papermill": {
     "duration": 0.213591,
     "end_time": "2023-10-28T18:08:53.039504",
     "exception": false,
     "start_time": "2023-10-28T18:08:52.825913",
     "status": "completed"
    },
    "tags": []
   },
   "outputs": [],
   "source": [
    "\n",
    "model = keras.Sequential([\n",
    "    keras.layers.Rescaling(scale = 1/255 , input_shape =(224,224,3) ) ,\n",
    "\n",
    "    keras.layers.Conv2D(32 , (3,3) , activation = 'relu'),\n",
    "    keras.layers.MaxPool2D((2,2))                     ,\n",
    "    keras.layers.Dropout(0.2),\n",
    "\n",
    "    keras.layers.Conv2D(64 , (3,3) , activation = 'relu') ,\n",
    "    keras.layers.MaxPool2D((2,2)) ,\n",
    "    keras.layers.Dropout(0.2),\n",
    "\n",
    "    keras.layers.Conv2D(64 , (3,3) , activation = 'relu') ,\n",
    "    keras.layers.MaxPool2D((2,2)) ,\n",
    "    keras.layers.Dropout(0.2),\n",
    "\n",
    "    keras.layers.Conv2D(64 , (3,3) , activation = 'relu') ,\n",
    "    keras.layers.MaxPool2D((2,2)) ,\n",
    "    keras.layers.Dropout(0.2),\n",
    "\n",
    "    keras.layers.Conv2D(128 , (3,3) , activation = 'relu') ,\n",
    "    keras.layers.MaxPool2D((2,2)) ,\n",
    "\n",
    "    # fully connected layers\n",
    "\n",
    "    keras.layers.Flatten(),\n",
    "    keras.layers.Dense(128,activation = 'relu'),\n",
    "    keras.layers.Dense(64,activation = 'relu'),\n",
    "    keras.layers.Dense(38,activation ='sigmoid')\n",
    "\n",
    "])"
   ]
  },
  {
   "cell_type": "code",
   "execution_count": null,
   "id": "e3fdef3a",
   "metadata": {
    "id": "WTYsb0uk_qCW",
    "papermill": {
     "duration": 0.036479,
     "end_time": "2023-10-28T18:08:53.094657",
     "exception": false,
     "start_time": "2023-10-28T18:08:53.058178",
     "status": "completed"
    },
    "tags": []
   },
   "outputs": [],
   "source": [
    "model.compile(\n",
    "    optimizer = 'adam' ,\n",
    "    loss = 'sparse_categorical_crossentropy',\n",
    "    metrics = 'accuracy'\n",
    ")"
   ]
  },
  {
   "cell_type": "code",
   "execution_count": null,
   "id": "0e3dfe49",
   "metadata": {
    "id": "je77DVU5yqNf",
    "outputId": "22d954f1-90c4-47d8-c9d5-1429e37657f1",
    "papermill": {
     "duration": 0.07957,
     "end_time": "2023-10-28T18:08:53.192719",
     "exception": false,
     "start_time": "2023-10-28T18:08:53.113149",
     "status": "completed"
    },
    "tags": []
   },
   "outputs": [],
   "source": [
    "model.summary()"
   ]
  },
  {
   "cell_type": "markdown",
   "id": "5f5add2d",
   "metadata": {
    "papermill": {
     "duration": 0.023243,
     "end_time": "2023-10-28T18:08:53.238016",
     "exception": false,
     "start_time": "2023-10-28T18:08:53.214773",
     "status": "completed"
    },
    "tags": []
   },
   "source": [
    "-------------------------------\n",
    "<div style=\"color:white;\n",
    "           display:fill;\n",
    "           border-radius:5px;\n",
    "           background-color:#234D18;\n",
    "           font-size:200%;\n",
    "           font-family:Serif;\n",
    "           letter-spacing:0.5px\">\n",
    "\n",
    "<p style=\"padding: 10px;\n",
    "          color:white;\n",
    "          font-size:120%;\n",
    "          text-align:center;\">\n",
    "Train Our Model\n",
    "</p>\n",
    "</div>"
   ]
  },
  {
   "cell_type": "code",
   "execution_count": null,
   "id": "259ac4f0",
   "metadata": {
    "id": "Hbdz2Ql2AWvW",
    "outputId": "009725eb-418e-402d-953e-8b36dd923183",
    "papermill": {
     "duration": 2066.415758,
     "end_time": "2023-10-28T18:43:19.677701",
     "exception": false,
     "start_time": "2023-10-28T18:08:53.261943",
     "status": "completed"
    },
    "tags": []
   },
   "outputs": [],
   "source": [
    "history = model.fit(train_ds , epochs = 20)"
   ]
  },
  {
   "cell_type": "code",
   "execution_count": null,
   "id": "2f499eb5",
   "metadata": {
    "id": "eVjBq-t39sKN",
    "outputId": "710fc48b-fd59-45d2-bce2-765612864105",
    "papermill": {
     "duration": 2.463746,
     "end_time": "2023-10-28T18:43:24.256963",
     "exception": false,
     "start_time": "2023-10-28T18:43:21.793217",
     "status": "completed"
    },
    "tags": []
   },
   "outputs": [],
   "source": [
    "accuracy = history.history['accuracy']\n",
    "loss = history.history['loss']\n",
    "epochs = range(1,21)\n",
    "\n",
    "plt.plot(epochs , accuracy , label = 'Acuuracy')\n",
    "plt.plot(epochs , loss , label = 'loss')\n",
    "plt.legend()\n",
    "plt.show()"
   ]
  },
  {
   "cell_type": "code",
   "execution_count": null,
   "id": "5290786c",
   "metadata": {
    "id": "CIv4ni9lAgun",
    "outputId": "ba5e27b9-f8ab-4536-df39-ecc514fe4794",
    "papermill": {
     "duration": 28.985257,
     "end_time": "2023-10-28T18:43:55.519540",
     "exception": false,
     "start_time": "2023-10-28T18:43:26.534283",
     "status": "completed"
    },
    "tags": []
   },
   "outputs": [],
   "source": [
    "model.evaluate(test_ds)"
   ]
  },
  {
   "cell_type": "markdown",
   "id": "7316d780",
   "metadata": {
    "id": "k18aXZvhbr6t",
    "papermill": {
     "duration": 2.261028,
     "end_time": "2023-10-28T18:44:00.034807",
     "exception": false,
     "start_time": "2023-10-28T18:43:57.773779",
     "status": "completed"
    },
    "tags": []
   },
   "source": [
    "------------------------------------------\n",
    "<div style=\"color:white;\n",
    "           display:fill;\n",
    "           border-radius:5px;\n",
    "           background-color:#234D18;\n",
    "           font-size:200%;\n",
    "           font-family:Serif;\n",
    "           letter-spacing:0.5px\">\n",
    "\n",
    "<p style=\"padding: 10px;\n",
    "          color:white;\n",
    "          font-size:120%;\n",
    "          text-align:center;\">\n",
    "Test model predictions\n",
    "</p>\n",
    "</div>"
   ]
  },
  {
   "cell_type": "code",
   "execution_count": null,
   "id": "d8d679e6",
   "metadata": {
    "id": "fv0r6C0-HiqS",
    "papermill": {
     "duration": 2.143588,
     "end_time": "2023-10-28T18:44:04.400100",
     "exception": false,
     "start_time": "2023-10-28T18:44:02.256512",
     "status": "completed"
    },
    "tags": []
   },
   "outputs": [],
   "source": [
    "def img_to_pred(image):\n",
    "  image = image.numpy()\n",
    "  image = tf.expand_dims(image,0)\n",
    "  return image"
   ]
  },
  {
   "cell_type": "code",
   "execution_count": null,
   "id": "d2fb89c5",
   "metadata": {
    "id": "xALcpafMby8r",
    "outputId": "2e9db472-c3ef-4367-a6ae-af642126eceb",
    "papermill": {
     "duration": 5.401778,
     "end_time": "2023-10-28T18:44:12.081966",
     "exception": false,
     "start_time": "2023-10-28T18:44:06.680188",
     "status": "completed"
    },
    "tags": []
   },
   "outputs": [],
   "source": [
    "plt.figure(figsize=(18,18))\n",
    "for images, labels in test_ds.take(1) : # take the first patch\n",
    "  for i in range(1,10):\n",
    "    plt.subplot(3,3,i)\n",
    "    plt.imshow(images[i].numpy().astype('uint32'))\n",
    "    plt.axis('off')\n",
    "    actual = classes[labels[i]]\n",
    "    predict =classes[np.argmax( model.predict(img_to_pred(images[i])))]\n",
    "    plt.title(f\"actual : {actual}  \\n predicted : {predict} \")"
   ]
  },
  {
   "cell_type": "markdown",
   "id": "b7a2562a",
   "metadata": {
    "id": "BCwk8OG7u1i8",
    "papermill": {
     "duration": 2.357795,
     "end_time": "2023-10-28T18:44:16.667906",
     "exception": false,
     "start_time": "2023-10-28T18:44:14.310111",
     "status": "completed"
    },
    "tags": []
   },
   "source": [
    "--------------------------\n",
    "<p style=\"padding: 10px;\n",
    "          color:#25940A ;\n",
    "          font-size:240%;\n",
    "          font-family:Serif;\n",
    "          text-align:center;\">   \n",
    "Thanks For Reading !\n",
    "</p>"
   ]
  }
 ],
 "metadata": {
  "kernelspec": {
   "display_name": "Python 3 (ipykernel)",
   "language": "python",
   "name": "python3"
  },
  "language_info": {
   "codemirror_mode": {
    "name": "ipython",
    "version": 3
   },
   "file_extension": ".py",
   "mimetype": "text/x-python",
   "name": "python",
   "nbconvert_exporter": "python",
   "pygments_lexer": "ipython3",
   "version": "3.11.7"
  },
  "papermill": {
   "default_parameters": {},
   "duration": 2186.941953,
   "end_time": "2023-10-28T18:44:26.485455",
   "environment_variables": {},
   "exception": null,
   "input_path": "__notebook__.ipynb",
   "output_path": "__notebook__.ipynb",
   "parameters": {},
   "start_time": "2023-10-28T18:07:59.543502",
   "version": "2.4.0"
  }
 },
 "nbformat": 4,
 "nbformat_minor": 5
}
