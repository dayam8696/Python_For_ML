{
 "cells": [
  {
   "cell_type": "markdown",
   "id": "369a0fb6-e883-4ec9-a079-c501a0a69f05",
   "metadata": {},
   "source": [
    "# Inbuild Function"
   ]
  },
  {
   "cell_type": "code",
   "execution_count": 1,
   "id": "aa17efe5-2b3f-466b-9177-73302f434922",
   "metadata": {},
   "outputs": [],
   "source": [
    "import math"
   ]
  },
  {
   "cell_type": "code",
   "execution_count": 3,
   "id": "7a1c607a-2b14-4d36-9c18-c877998b8fda",
   "metadata": {},
   "outputs": [
    {
     "name": "stdout",
     "output_type": "stream",
     "text": [
      "['__doc__', '__loader__', '__name__', '__package__', '__spec__', 'acos', 'acosh', 'asin', 'asinh', 'atan', 'atan2', 'atanh', 'cbrt', 'ceil', 'comb', 'copysign', 'cos', 'cosh', 'degrees', 'dist', 'e', 'erf', 'erfc', 'exp', 'exp2', 'expm1', 'fabs', 'factorial', 'floor', 'fmod', 'frexp', 'fsum', 'gamma', 'gcd', 'hypot', 'inf', 'isclose', 'isfinite', 'isinf', 'isnan', 'isqrt', 'lcm', 'ldexp', 'lgamma', 'log', 'log10', 'log1p', 'log2', 'modf', 'nan', 'nextafter', 'perm', 'pi', 'pow', 'prod', 'radians', 'remainder', 'sin', 'sinh', 'sqrt', 'tan', 'tanh', 'tau', 'trunc', 'ulp']\n"
     ]
    }
   ],
   "source": [
    "print(dir(math))"
   ]
  },
  {
   "cell_type": "markdown",
   "id": "3634a15e-b28d-4d87-a2e8-6ce7cbf469bc",
   "metadata": {},
   "source": [
    " # User Define Function"
   ]
  },
  {
   "cell_type": "code",
   "execution_count": 5,
   "id": "2cef082f-e249-4425-9d33-6039272b0793",
   "metadata": {},
   "outputs": [],
   "source": [
    "#def function_name(parametrs):\n",
    "# DO SOMTHING"
   ]
  },
  {
   "cell_type": "code",
   "execution_count": 6,
   "id": "64cd4228-71f5-4c32-bb26-699bc012d246",
   "metadata": {},
   "outputs": [],
   "source": [
    "def print_sum(first , second):\n",
    "    print(first + second)\n",
    "    "
   ]
  },
  {
   "cell_type": "code",
   "execution_count": 7,
   "id": "e2ab4330-b6ec-4e77-8a01-16730a4fcc7a",
   "metadata": {},
   "outputs": [
    {
     "name": "stdout",
     "output_type": "stream",
     "text": [
      "30\n"
     ]
    }
   ],
   "source": [
    "print_sum( 10 ,20)"
   ]
  },
  {
   "cell_type": "code",
   "execution_count": null,
   "id": "6c30fef6-975c-4a09-a938-21b1ff99052c",
   "metadata": {},
   "outputs": [],
   "source": []
  }
 ],
 "metadata": {
  "kernelspec": {
   "display_name": "Python 3 (ipykernel)",
   "language": "python",
   "name": "python3"
  },
  "language_info": {
   "codemirror_mode": {
    "name": "ipython",
    "version": 3
   },
   "file_extension": ".py",
   "mimetype": "text/x-python",
   "name": "python",
   "nbconvert_exporter": "python",
   "pygments_lexer": "ipython3",
   "version": "3.11.7"
  }
 },
 "nbformat": 4,
 "nbformat_minor": 5
}
