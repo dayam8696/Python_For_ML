{
 "cells": [
  {
   "cell_type": "code",
   "execution_count": 7,
   "id": "026091a9-2d72-44fc-a81c-c3209cfd3e36",
   "metadata": {
    "collapsed": true,
    "jupyter": {
     "outputs_hidden": true
    }
   },
   "outputs": [
    {
     "name": "stdout",
     "output_type": "stream",
     "text": [
      "DAYAM NADEEM\n"
     ]
    }
   ],
   "source": [
    "print(\"DAYAM NADEEM\")"
   ]
  },
  {
   "cell_type": "code",
   "execution_count": null,
   "id": "fdf8bdb0-1dee-4c9a-a663-f251441c6c9d",
   "metadata": {},
   "outputs": [],
   "source": []
  }
 ],
 "metadata": {
  "kernelspec": {
   "display_name": "Python 3 (ipykernel)",
   "language": "python",
   "name": "python3"
  },
  "language_info": {
   "codemirror_mode": {
    "name": "ipython",
    "version": 3
   },
   "file_extension": ".py",
   "mimetype": "text/x-python",
   "name": "python",
   "nbconvert_exporter": "python",
   "pygments_lexer": "ipython3",
   "version": "3.11.7"
  }
 },
 "nbformat": 4,
 "nbformat_minor": 5
}
