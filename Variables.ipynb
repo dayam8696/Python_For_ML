{
 "cells": [
  {
   "cell_type": "code",
   "execution_count": 1,
   "id": "4cbc88ec-c63e-4e1e-8788-76030a115cf4",
   "metadata": {},
   "outputs": [],
   "source": [
    "var =  10"
   ]
  },
  {
   "cell_type": "code",
   "execution_count": 2,
   "id": "1574d1ae-e72b-420d-940f-c12aac180cb7",
   "metadata": {},
   "outputs": [
    {
     "data": {
      "text/plain": [
       "10"
      ]
     },
     "execution_count": 2,
     "metadata": {},
     "output_type": "execute_result"
    }
   ],
   "source": [
    "var"
   ]
  },
  {
   "cell_type": "code",
   "execution_count": 3,
   "id": "9d5da91c-7e40-4a08-a7cf-76ae1a68fbf1",
   "metadata": {},
   "outputs": [],
   "source": [
    "var = 20 "
   ]
  },
  {
   "cell_type": "code",
   "execution_count": 4,
   "id": "b1b2bb7b-81cf-4a89-8afc-f502d3b8afc2",
   "metadata": {},
   "outputs": [
    {
     "data": {
      "text/plain": [
       "20"
      ]
     },
     "execution_count": 4,
     "metadata": {},
     "output_type": "execute_result"
    }
   ],
   "source": [
    "var"
   ]
  },
  {
   "cell_type": "code",
   "execution_count": 5,
   "id": "469e72fb-1d14-46be-bc51-fc64be9b8d26",
   "metadata": {},
   "outputs": [],
   "source": [
    "var_1 =  30"
   ]
  },
  {
   "cell_type": "code",
   "execution_count": 6,
   "id": "426f0da8-a59d-48da-aafc-6ba829efcfd0",
   "metadata": {},
   "outputs": [
    {
     "data": {
      "text/plain": [
       "30"
      ]
     },
     "execution_count": 6,
     "metadata": {},
     "output_type": "execute_result"
    }
   ],
   "source": [
    "var_1"
   ]
  },
  {
   "cell_type": "markdown",
   "id": "3da56f3f-aad3-4db5-9279-4060917aceab",
   "metadata": {},
   "source": [
    "# Arthemetic Operator using variable "
   ]
  },
  {
   "cell_type": "code",
   "execution_count": 7,
   "id": "b777c0c8-e721-420c-b369-0ad783a20a24",
   "metadata": {},
   "outputs": [],
   "source": [
    "x = 20\n",
    "y = 5"
   ]
  },
  {
   "cell_type": "code",
   "execution_count": 8,
   "id": "a0861917-f497-4671-8ac7-63fd5ceac777",
   "metadata": {},
   "outputs": [
    {
     "data": {
      "text/plain": [
       "5"
      ]
     },
     "execution_count": 8,
     "metadata": {},
     "output_type": "execute_result"
    }
   ],
   "source": [
    "x+y"
   ]
  },
  {
   "cell_type": "code",
   "execution_count": 9,
   "id": "b0c32bcc-be45-4012-8a1f-80212e93532b",
   "metadata": {},
   "outputs": [
    {
     "data": {
      "text/plain": [
       "1"
      ]
     },
     "execution_count": 9,
     "metadata": {},
     "output_type": "execute_result"
    }
   ],
   "source": [
    "y-x"
   ]
  },
  {
   "cell_type": "code",
   "execution_count": 10,
   "id": "c4a2cd05-4ef2-430b-9dc8-e40f13206118",
   "metadata": {},
   "outputs": [
    {
     "data": {
      "text/plain": [
       "1.5"
      ]
     },
     "execution_count": 10,
     "metadata": {},
     "output_type": "execute_result"
    }
   ],
   "source": [
    "y/x"
   ]
  },
  {
   "cell_type": "code",
   "execution_count": 11,
   "id": "6c2631e1-99d0-4474-8c59-3439868aec3f",
   "metadata": {},
   "outputs": [
    {
     "data": {
      "text/plain": [
       "1"
      ]
     },
     "execution_count": 11,
     "metadata": {},
     "output_type": "execute_result"
    }
   ],
   "source": [
    "y%x"
   ]
  },
  {
   "cell_type": "code",
   "execution_count": 12,
   "id": "c1085f98-3232-4fd6-9e11-850c435cd1b5",
   "metadata": {},
   "outputs": [
    {
     "data": {
      "text/plain": [
       "6"
      ]
     },
     "execution_count": 12,
     "metadata": {},
     "output_type": "execute_result"
    }
   ],
   "source": [
    "y*x"
   ]
  },
  {
   "cell_type": "code",
   "execution_count": null,
   "id": "f69683d5-ff82-466e-85b8-3287e66f6a9e",
   "metadata": {},
   "outputs": [],
   "source": []
  }
 ],
 "metadata": {
  "kernelspec": {
   "display_name": "Python 3 (ipykernel)",
   "language": "python",
   "name": "python3"
  },
  "language_info": {
   "codemirror_mode": {
    "name": "ipython",
    "version": 3
   },
   "file_extension": ".py",
   "mimetype": "text/x-python",
   "name": "python",
   "nbconvert_exporter": "python",
   "pygments_lexer": "ipython3",
   "version": "3.11.7"
  }
 },
 "nbformat": 4,
 "nbformat_minor": 5
}
