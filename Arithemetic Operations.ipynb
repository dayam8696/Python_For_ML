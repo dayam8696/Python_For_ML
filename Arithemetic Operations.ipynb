{
 "cells": [
  {
   "cell_type": "markdown",
   "id": "24342fbf-0b5e-4369-b990-a04d27be1eb0",
   "metadata": {},
   "source": [
    "# addition"
   ]
  },
  {
   "cell_type": "code",
   "execution_count": 5,
   "id": "92e53967-afad-4b8f-9b4f-bf669e216418",
   "metadata": {},
   "outputs": [
    {
     "data": {
      "text/plain": [
       "60"
      ]
     },
     "execution_count": 5,
     "metadata": {},
     "output_type": "execute_result"
    }
   ],
   "source": [
    "10+50"
   ]
  },
  {
   "cell_type": "code",
   "execution_count": 6,
   "id": "9765b714-15d3-41b1-afe3-d73082fdad96",
   "metadata": {},
   "outputs": [
    {
     "data": {
      "text/plain": [
       "1034098"
      ]
     },
     "execution_count": 6,
     "metadata": {},
     "output_type": "execute_result"
    }
   ],
   "source": [
    "10+595839+438249"
   ]
  },
  {
   "cell_type": "markdown",
   "id": "b834f739-ba9d-4f85-8c64-1febd06fc6f6",
   "metadata": {},
   "source": [
    "# substraction"
   ]
  },
  {
   "cell_type": "code",
   "execution_count": 7,
   "id": "10afe737-1fb4-4b85-8551-919c163333f9",
   "metadata": {},
   "outputs": [
    {
     "data": {
      "text/plain": [
       "5"
      ]
     },
     "execution_count": 7,
     "metadata": {},
     "output_type": "execute_result"
    }
   ],
   "source": [
    "10-5"
   ]
  },
  {
   "cell_type": "code",
   "execution_count": 8,
   "id": "e39e2501-a7e7-4bbb-a3ce-ad3dac1f9a2b",
   "metadata": {},
   "outputs": [
    {
     "data": {
      "text/plain": [
       "-15"
      ]
     },
     "execution_count": 8,
     "metadata": {},
     "output_type": "execute_result"
    }
   ],
   "source": [
    "45 -60"
   ]
  },
  {
   "cell_type": "markdown",
   "id": "c6983aae-1ead-467c-883c-de7aad23d923",
   "metadata": {},
   "source": [
    "# multiplication"
   ]
  },
  {
   "cell_type": "code",
   "execution_count": 10,
   "id": "2ce7fb5a-c8d9-4ebd-9d42-2da93f04052f",
   "metadata": {},
   "outputs": [
    {
     "data": {
      "text/plain": [
       "40"
      ]
     },
     "execution_count": 10,
     "metadata": {},
     "output_type": "execute_result"
    }
   ],
   "source": [
    "10*4"
   ]
  },
  {
   "cell_type": "code",
   "execution_count": 11,
   "id": "3ac44286-b2ed-4076-a1d6-efc2fd72988b",
   "metadata": {},
   "outputs": [
    {
     "data": {
      "text/plain": [
       "6750"
      ]
     },
     "execution_count": 11,
     "metadata": {},
     "output_type": "execute_result"
    }
   ],
   "source": [
    "75*90"
   ]
  },
  {
   "cell_type": "code",
   "execution_count": 12,
   "id": "890b2b3b-53e1-448d-b9b9-431dfb8b2600",
   "metadata": {},
   "outputs": [
    {
     "data": {
      "text/plain": [
       "4588.38"
      ]
     },
     "execution_count": 12,
     "metadata": {},
     "output_type": "execute_result"
    }
   ],
   "source": [
    "58.6*78.3"
   ]
  },
  {
   "cell_type": "markdown",
   "id": "ac674dc2-4cc5-4b62-9812-3cff9513c4d6",
   "metadata": {},
   "source": [
    "# Division"
   ]
  },
  {
   "cell_type": "code",
   "execution_count": 13,
   "id": "16a322ac-6f66-497b-a84e-e6777dd16198",
   "metadata": {},
   "outputs": [
    {
     "data": {
      "text/plain": [
       "2.0"
      ]
     },
     "execution_count": 13,
     "metadata": {},
     "output_type": "execute_result"
    }
   ],
   "source": [
    "10/5"
   ]
  },
  {
   "cell_type": "code",
   "execution_count": 14,
   "id": "c25ce8ad-f0b5-4265-baa7-9bad65b63be0",
   "metadata": {},
   "outputs": [
    {
     "data": {
      "text/plain": [
       "729.7749777777778"
      ]
     },
     "execution_count": 14,
     "metadata": {},
     "output_type": "execute_result"
    }
   ],
   "source": [
    "32839.874/45"
   ]
  },
  {
   "cell_type": "markdown",
   "id": "204f6dd0-705d-4b02-bd53-4eabe7c50def",
   "metadata": {},
   "source": [
    "# Exponentiontion"
   ]
  },
  {
   "cell_type": "code",
   "execution_count": 15,
   "id": "1da4d5c1-1f13-47f6-b4e3-a6aac2b73317",
   "metadata": {},
   "outputs": [
    {
     "data": {
      "text/plain": [
       "8"
      ]
     },
     "execution_count": 15,
     "metadata": {},
     "output_type": "execute_result"
    }
   ],
   "source": [
    "2*2*2"
   ]
  },
  {
   "cell_type": "code",
   "execution_count": 16,
   "id": "fad18fc6-1fd0-43be-bbb1-5c6db09f8af2",
   "metadata": {},
   "outputs": [
    {
     "data": {
      "text/plain": [
       "8"
      ]
     },
     "execution_count": 16,
     "metadata": {},
     "output_type": "execute_result"
    }
   ],
   "source": [
    "pow(2,3)"
   ]
  },
  {
   "cell_type": "code",
   "execution_count": 18,
   "id": "93800e74-3673-40df-8c70-e587aebbd174",
   "metadata": {},
   "outputs": [
    {
     "data": {
      "text/plain": [
       "4096"
      ]
     },
     "execution_count": 18,
     "metadata": {},
     "output_type": "execute_result"
    }
   ],
   "source": [
    "pow(4,6)"
   ]
  },
  {
   "cell_type": "code",
   "execution_count": 19,
   "id": "05bdbfe3-4b1c-4f82-963a-1ab7d264d398",
   "metadata": {},
   "outputs": [
    {
     "data": {
      "text/plain": [
       "9"
      ]
     },
     "execution_count": 19,
     "metadata": {},
     "output_type": "execute_result"
    }
   ],
   "source": [
    "3**2"
   ]
  },
  {
   "cell_type": "code",
   "execution_count": 20,
   "id": "37071b88-11b0-4ef9-9c16-7c173aadaf3c",
   "metadata": {},
   "outputs": [
    {
     "data": {
      "text/plain": [
       "32"
      ]
     },
     "execution_count": 20,
     "metadata": {},
     "output_type": "execute_result"
    }
   ],
   "source": [
    "2**5"
   ]
  },
  {
   "cell_type": "markdown",
   "id": "6ed89114-9add-4e80-846e-f9a0acca94c9",
   "metadata": {},
   "source": [
    "# Modulus"
   ]
  },
  {
   "cell_type": "code",
   "execution_count": 21,
   "id": "262dcebb-8886-46d5-ae78-ac9bc71bea26",
   "metadata": {},
   "outputs": [
    {
     "data": {
      "text/plain": [
       "1"
      ]
     },
     "execution_count": 21,
     "metadata": {},
     "output_type": "execute_result"
    }
   ],
   "source": [
    "10%3"
   ]
  },
  {
   "cell_type": "code",
   "execution_count": 22,
   "id": "1521da4a-2584-4e9c-919e-da6fb7f1539b",
   "metadata": {},
   "outputs": [
    {
     "data": {
      "text/plain": [
       "0"
      ]
     },
     "execution_count": 22,
     "metadata": {},
     "output_type": "execute_result"
    }
   ],
   "source": [
    "40%10"
   ]
  },
  {
   "cell_type": "code",
   "execution_count": null,
   "id": "4f6598e9-b2f7-497a-8336-248b574f0492",
   "metadata": {},
   "outputs": [],
   "source": []
  }
 ],
 "metadata": {
  "kernelspec": {
   "display_name": "Python 3 (ipykernel)",
   "language": "python",
   "name": "python3"
  },
  "language_info": {
   "codemirror_mode": {
    "name": "ipython",
    "version": 3
   },
   "file_extension": ".py",
   "mimetype": "text/x-python",
   "name": "python",
   "nbconvert_exporter": "python",
   "pygments_lexer": "ipython3",
   "version": "3.11.7"
  }
 },
 "nbformat": 4,
 "nbformat_minor": 5
}
